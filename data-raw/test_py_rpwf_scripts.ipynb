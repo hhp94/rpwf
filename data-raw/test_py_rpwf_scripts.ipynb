{
 "cells": [
  {
   "cell_type": "code",
   "execution_count": 1,
   "metadata": {},
   "outputs": [],
   "source": [
    "import rpwf\n",
    "from rpwf import database, rpwf\n",
    "from pathlib import Path\n",
    "from typing import Dict\n",
    "from dataclasses import dataclass\n",
    "import pandas\n",
    "from sklearn.model_selection import (\n",
    "    RepeatedStratifiedKFold,\n",
    "    GridSearchCV,\n",
    "    cross_val_score\n",
    ")"
   ]
  },
  {
   "cell_type": "code",
   "execution_count": 16,
   "metadata": {},
   "outputs": [
    {
     "name": "stdout",
     "output_type": "stream",
     "text": [
      "/tmp/Rtmpo4WoiC/vignette3321168c28df/db.SQLite\n"
     ]
    }
   ],
   "source": [
    "tmp_dir = Path(\"/tmp/Rtmpo4WoiC/vignette3321168c28df\")\n",
    "tmp_dir_posix = str(tmp_dir)\n",
    "print(tmp_dir_posix)"
   ]
  },
  {
   "cell_type": "code",
   "execution_count": 3,
   "metadata": {},
   "outputs": [
    {
     "data": {
      "text/plain": [
       "['board.yml', 'db.SQLite']"
      ]
     },
     "execution_count": 3,
     "metadata": {},
     "output_type": "execute_result"
    }
   ],
   "source": [
    "os.listdir(tmp_dir)"
   ]
  },
  {
   "cell_type": "code",
   "execution_count": 4,
   "metadata": {},
   "outputs": [],
   "source": [
    "@dataclass\n",
    "class TestArgs:\n",
    "    db_path: str\n",
    "    board: str\n",
    "    cores: int\n",
    "    inner_n_cv: int\n",
    "    inner_n_repeats: int\n",
    "    outer_n_cv: int\n",
    "    outer_n_repeats: int\n",
    "    joblib_model: bool"
   ]
  },
  {
   "cell_type": "code",
   "execution_count": 5,
   "metadata": {},
   "outputs": [
    {
     "name": "stdout",
     "output_type": "stream",
     "text": [
      "Connecting to sqlite:////tmp/Rtmpo4WoiC/vignette3321168c28df/db.SQLite\n"
     ]
    }
   ],
   "source": [
    "args = TestArgs(\n",
    "    tmp_dir.joinpath('db.SQLite').as_posix(), \n",
    "    tmp_dir.joinpath('board.yml').as_posix(), \n",
    "    3, 2, 1, 2, 1, True)\n",
    "db_obj = database.Base(args.db_path)\n",
    "board_obj = database.Board(args.board)"
   ]
  },
  {
   "cell_type": "code",
   "execution_count": 6,
   "metadata": {},
   "outputs": [
    {
     "data": {
      "text/html": [
       "<div>\n",
       "<style scoped>\n",
       "    .dataframe tbody tr th:only-of-type {\n",
       "        vertical-align: middle;\n",
       "    }\n",
       "\n",
       "    .dataframe tbody tr th {\n",
       "        vertical-align: top;\n",
       "    }\n",
       "\n",
       "    .dataframe thead th {\n",
       "        text-align: right;\n",
       "    }\n",
       "</style>\n",
       "<table border=\"1\" class=\"dataframe\">\n",
       "  <thead>\n",
       "    <tr style=\"text-align: right;\">\n",
       "      <th></th>\n",
       "      <th>wflow_id</th>\n",
       "      <th>model_tag</th>\n",
       "      <th>recipe_tag</th>\n",
       "      <th>result_pin_name</th>\n",
       "      <th>model_pin_name</th>\n",
       "    </tr>\n",
       "  </thead>\n",
       "  <tbody>\n",
       "    <tr>\n",
       "      <th>0</th>\n",
       "      <td>1</td>\n",
       "      <td>xgboost</td>\n",
       "      <td>xgb_base</td>\n",
       "      <td>None</td>\n",
       "      <td>None</td>\n",
       "    </tr>\n",
       "    <tr>\n",
       "      <th>1</th>\n",
       "      <td>2</td>\n",
       "      <td>xgboost</td>\n",
       "      <td>xgb_pca</td>\n",
       "      <td>None</td>\n",
       "      <td>None</td>\n",
       "    </tr>\n",
       "    <tr>\n",
       "      <th>2</th>\n",
       "      <td>3</td>\n",
       "      <td>svm_rbf</td>\n",
       "      <td>scaled_base</td>\n",
       "      <td>None</td>\n",
       "      <td>None</td>\n",
       "    </tr>\n",
       "    <tr>\n",
       "      <th>3</th>\n",
       "      <td>4</td>\n",
       "      <td>glmnet</td>\n",
       "      <td>scaled_base</td>\n",
       "      <td>None</td>\n",
       "      <td>None</td>\n",
       "    </tr>\n",
       "    <tr>\n",
       "      <th>4</th>\n",
       "      <td>5</td>\n",
       "      <td>svm_rbf</td>\n",
       "      <td>scaled_pca</td>\n",
       "      <td>wf_5_cv_8754083262181.csv</td>\n",
       "      <td>wf_5_cv_8754083262181.joblib</td>\n",
       "    </tr>\n",
       "    <tr>\n",
       "      <th>5</th>\n",
       "      <td>6</td>\n",
       "      <td>glmnet</td>\n",
       "      <td>scaled_pca</td>\n",
       "      <td>wf_6_cv_8731127476396.csv</td>\n",
       "      <td>wf_6_cv_8731127476396.joblib</td>\n",
       "    </tr>\n",
       "  </tbody>\n",
       "</table>\n",
       "</div>"
      ],
      "text/plain": [
       "   wflow_id model_tag   recipe_tag            result_pin_name  \\\n",
       "0         1   xgboost     xgb_base                       None   \n",
       "1         2   xgboost      xgb_pca                       None   \n",
       "2         3   svm_rbf  scaled_base                       None   \n",
       "3         4    glmnet  scaled_base                       None   \n",
       "4         5   svm_rbf   scaled_pca  wf_5_cv_8754083262181.csv   \n",
       "5         6    glmnet   scaled_pca  wf_6_cv_8731127476396.csv   \n",
       "\n",
       "                 model_pin_name  \n",
       "0                          None  \n",
       "1                          None  \n",
       "2                          None  \n",
       "3                          None  \n",
       "4  wf_5_cv_8754083262181.joblib  \n",
       "5  wf_6_cv_8731127476396.joblib  "
      ]
     },
     "execution_count": 6,
     "metadata": {},
     "output_type": "execute_result"
    }
   ],
   "source": [
    "db_obj.all_wflow()"
   ]
  },
  {
   "cell_type": "code",
   "execution_count": 7,
   "metadata": {},
   "outputs": [
    {
     "name": "stdout",
     "output_type": "stream",
     "text": [
      "Running <class 'sklearn.svm._classes.SVC'>\n"
     ]
    }
   ],
   "source": [
    "import sys\n",
    "from numpy import ravel\n",
    "\n",
    "wflow_id = 5\n",
    "wflow_obj = rpwf.Wflow(db_obj, board_obj, wflow_id)\n",
    "n_cores = args.cores\n",
    "\n",
    "# Generate the parameters\n",
    "p_grid = rpwf.RGrid(db_obj, board_obj, wflow_obj).get_grid()\n",
    "\n",
    "df_obj = rpwf.TrainDf(db_obj, board_obj, wflow_obj)\n",
    "X, y = df_obj.get_df_X(True), df_obj.get_df_y(True)\n",
    "\n",
    "if y is None:\n",
    "    print(\"No target provided, exiting...\")\n",
    "    sys.exit()\n",
    "\n",
    "y = ravel(y)\n",
    "\n",
    "model_type_obj = rpwf.Model(db_obj, board_obj, wflow_obj)\n",
    "base_learner = rpwf.BaseLearner(wflow_obj, model_type_obj).base_learner\n",
    "score = wflow_obj._get_par(\"costs\")"
   ]
  },
  {
   "cell_type": "markdown",
   "metadata": {},
   "source": [
    "## nested_resampling.py"
   ]
  },
  {
   "cell_type": "code",
   "execution_count": null,
   "metadata": {},
   "outputs": [],
   "source": [
    "# Nested resampling\n",
    "inner_cv = RepeatedStratifiedKFold(\n",
    "    n_splits=args.inner_n_cv, \n",
    "    n_repeats=args.inner_n_repeats,\n",
    "    random_state=wflow_obj.random_state\n",
    ")\n",
    "outer_cv = RepeatedStratifiedKFold(\n",
    "    n_splits=args.outer_n_cv,\n",
    "    n_repeats=args.outer_n_repeats,\n",
    "    random_state=wflow_obj.random_state,\n",
    ")\n",
    "\n",
    "if p_grid is None:\n",
    "    print(\"No tune grid specified, running with default params\")\n",
    "    nested_score = cross_val_score(\n",
    "        base_learner, X=X, y=y, cv=outer_cv, n_jobs=n_cores, scoring=score\n",
    "    )\n",
    "\n",
    "else:\n",
    "    print(\"Performing nested-cv using provided Rgrid\")\n",
    "    param_tuner = GridSearchCV(\n",
    "        estimator=base_learner,\n",
    "        param_grid=p_grid,\n",
    "        cv=inner_cv,\n",
    "        n_jobs=n_cores,\n",
    "        scoring=score,\n",
    "    )\n",
    "    nested_score = cross_val_score(param_tuner, X=X, y=y, cv=outer_cv)"
   ]
  },
  {
   "cell_type": "code",
   "execution_count": null,
   "metadata": {},
   "outputs": [],
   "source": [
    "nested_score"
   ]
  },
  {
   "cell_type": "code",
   "execution_count": null,
   "metadata": {},
   "outputs": [],
   "source": [
    "# if args.export:\n",
    "    # Export the results\n",
    "exporter = rpwf.Export(db_obj, board_obj, \"nested_cv\", wflow_obj)\n",
    "nested_score_df = pandas.DataFrame(nested_score, columns=[score])"
   ]
  },
  {
   "cell_type": "code",
   "execution_count": null,
   "metadata": {},
   "outputs": [],
   "source": [
    "exporter.export_cv(nested_score_df)\n",
    "exporter.export_db()"
   ]
  },
  {
   "cell_type": "code",
   "execution_count": null,
   "metadata": {},
   "outputs": [],
   "source": [
    "board_obj.board.pin_read('wf_5_nested_cv_8767807281529.csv')"
   ]
  },
  {
   "cell_type": "code",
   "execution_count": null,
   "metadata": {},
   "outputs": [],
   "source": [
    "db_obj.all_wflow()"
   ]
  },
  {
   "cell_type": "markdown",
   "metadata": {},
   "source": [
    "## cross_validation.py"
   ]
  },
  {
   "cell_type": "code",
   "execution_count": 8,
   "metadata": {},
   "outputs": [
    {
     "name": "stdout",
     "output_type": "stream",
     "text": [
      "Performing nested-cv using provided Rgrid\n"
     ]
    }
   ],
   "source": [
    "cv = RepeatedStratifiedKFold(\n",
    "    n_splits=5,\n",
    "    n_repeats=1,\n",
    "    random_state=wflow_obj.random_state,\n",
    ")\n",
    "\n",
    "if p_grid is None:\n",
    "    print(\"No tune grid specified, running with default params\")\n",
    "    cv_results = cross_val_score(\n",
    "        base_learner, X=X, y=y, cv=cv, n_jobs=n_cores, scoring=score\n",
    "    )\n",
    "else:\n",
    "    print(\"Performing nested-cv using provided Rgrid\")\n",
    "    param_tuner = GridSearchCV(\n",
    "        estimator=base_learner,\n",
    "        param_grid=p_grid,\n",
    "        cv=cv,\n",
    "        n_jobs=n_cores,\n",
    "        scoring=score\n",
    "    )\n",
    "    param_tuner.fit(X=X, y=y)\n",
    "    tuning_results = pandas.DataFrame(param_tuner.cv_results_)\n",
    "    cv_results = tuning_results.loc[tuning_results['rank_test_score'] == 1]"
   ]
  },
  {
   "cell_type": "code",
   "execution_count": 9,
   "metadata": {},
   "outputs": [
    {
     "data": {
      "text/html": [
       "<div>\n",
       "<style scoped>\n",
       "    .dataframe tbody tr th:only-of-type {\n",
       "        vertical-align: middle;\n",
       "    }\n",
       "\n",
       "    .dataframe tbody tr th {\n",
       "        vertical-align: top;\n",
       "    }\n",
       "\n",
       "    .dataframe thead th {\n",
       "        text-align: right;\n",
       "    }\n",
       "</style>\n",
       "<table border=\"1\" class=\"dataframe\">\n",
       "  <thead>\n",
       "    <tr style=\"text-align: right;\">\n",
       "      <th></th>\n",
       "      <th>mean_fit_time</th>\n",
       "      <th>std_fit_time</th>\n",
       "      <th>mean_score_time</th>\n",
       "      <th>std_score_time</th>\n",
       "      <th>param_C</th>\n",
       "      <th>param_gamma</th>\n",
       "      <th>params</th>\n",
       "      <th>split0_test_score</th>\n",
       "      <th>split1_test_score</th>\n",
       "      <th>split2_test_score</th>\n",
       "      <th>split3_test_score</th>\n",
       "      <th>split4_test_score</th>\n",
       "      <th>mean_test_score</th>\n",
       "      <th>std_test_score</th>\n",
       "      <th>rank_test_score</th>\n",
       "    </tr>\n",
       "  </thead>\n",
       "  <tbody>\n",
       "    <tr>\n",
       "      <th>5</th>\n",
       "      <td>0.005377</td>\n",
       "      <td>0.000274</td>\n",
       "      <td>0.002581</td>\n",
       "      <td>0.000707</td>\n",
       "      <td>3.174802</td>\n",
       "      <td>0.008621</td>\n",
       "      <td>{'C': 3.174802103936398, 'gamma': 0.0086210288...</td>\n",
       "      <td>0.945455</td>\n",
       "      <td>0.945455</td>\n",
       "      <td>0.913043</td>\n",
       "      <td>0.960145</td>\n",
       "      <td>0.93599</td>\n",
       "      <td>0.940018</td>\n",
       "      <td>0.015544</td>\n",
       "      <td>1</td>\n",
       "    </tr>\n",
       "  </tbody>\n",
       "</table>\n",
       "</div>"
      ],
      "text/plain": [
       "   mean_fit_time  std_fit_time  mean_score_time  std_score_time   param_C  \\\n",
       "5       0.005377      0.000274         0.002581        0.000707  3.174802   \n",
       "\n",
       "  param_gamma                                             params  \\\n",
       "5    0.008621  {'C': 3.174802103936398, 'gamma': 0.0086210288...   \n",
       "\n",
       "   split0_test_score  split1_test_score  split2_test_score  split3_test_score  \\\n",
       "5           0.945455           0.945455           0.913043           0.960145   \n",
       "\n",
       "   split4_test_score  mean_test_score  std_test_score  rank_test_score  \n",
       "5            0.93599         0.940018        0.015544                1  "
      ]
     },
     "execution_count": 9,
     "metadata": {},
     "output_type": "execute_result"
    }
   ],
   "source": [
    "cv_results"
   ]
  },
  {
   "cell_type": "code",
   "execution_count": 10,
   "metadata": {},
   "outputs": [
    {
     "name": "stdout",
     "output_type": "stream",
     "text": [
      "Found in db, overwriting\n",
      "Exporting to db\n"
     ]
    },
    {
     "name": "stderr",
     "output_type": "stream",
     "text": [
      "Writing pin:\n",
      "Name: 'wf_5_cv_8772869485692.csv'\n",
      "Version: 20221115T001158Z-43887\n",
      "Writing pin:\n",
      "Name: 'wf_5_cv_8772869485692.joblib'\n",
      "Version: 20221115T001158Z-ccb27\n"
     ]
    },
    {
     "data": {
      "text/plain": [
       "<sqlalchemy.engine.cursor.CursorResult at 0x7fa9334963d0>"
      ]
     },
     "execution_count": 10,
     "metadata": {},
     "output_type": "execute_result"
    }
   ],
   "source": [
    "# if args.export:\n",
    "    # Export the results\n",
    "exporter = rpwf.Export(db_obj, board_obj, \"cv\", wflow_obj)\n",
    "exporter.export_cv(pandas.DataFrame(cv_results))\n",
    "if args.joblib_model and param_tuner:\n",
    "    exporter.export_model(param_tuner.best_estimator_)\n",
    "exporter.export_db()"
   ]
  },
  {
   "cell_type": "code",
   "execution_count": 13,
   "metadata": {},
   "outputs": [
    {
     "data": {
      "text/html": [
       "<div>\n",
       "<style scoped>\n",
       "    .dataframe tbody tr th:only-of-type {\n",
       "        vertical-align: middle;\n",
       "    }\n",
       "\n",
       "    .dataframe tbody tr th {\n",
       "        vertical-align: top;\n",
       "    }\n",
       "\n",
       "    .dataframe thead th {\n",
       "        text-align: right;\n",
       "    }\n",
       "</style>\n",
       "<table border=\"1\" class=\"dataframe\">\n",
       "  <thead>\n",
       "    <tr style=\"text-align: right;\">\n",
       "      <th></th>\n",
       "      <th>mean_fit_time</th>\n",
       "      <th>std_fit_time</th>\n",
       "      <th>mean_score_time</th>\n",
       "      <th>std_score_time</th>\n",
       "      <th>param_C</th>\n",
       "      <th>param_gamma</th>\n",
       "      <th>params</th>\n",
       "      <th>split0_test_score</th>\n",
       "      <th>split1_test_score</th>\n",
       "      <th>split2_test_score</th>\n",
       "      <th>split3_test_score</th>\n",
       "      <th>split4_test_score</th>\n",
       "      <th>mean_test_score</th>\n",
       "      <th>std_test_score</th>\n",
       "      <th>rank_test_score</th>\n",
       "    </tr>\n",
       "  </thead>\n",
       "  <tbody>\n",
       "    <tr>\n",
       "      <th>0</th>\n",
       "      <td>0.005377</td>\n",
       "      <td>0.000274</td>\n",
       "      <td>0.002581</td>\n",
       "      <td>0.000707</td>\n",
       "      <td>3.174802</td>\n",
       "      <td>0.008621</td>\n",
       "      <td>{'C': 3.174802103936398, 'gamma': 0.0086210288...</td>\n",
       "      <td>0.945455</td>\n",
       "      <td>0.945455</td>\n",
       "      <td>0.913043</td>\n",
       "      <td>0.960145</td>\n",
       "      <td>0.93599</td>\n",
       "      <td>0.940018</td>\n",
       "      <td>0.015544</td>\n",
       "      <td>1</td>\n",
       "    </tr>\n",
       "  </tbody>\n",
       "</table>\n",
       "</div>"
      ],
      "text/plain": [
       "   mean_fit_time  std_fit_time  mean_score_time  std_score_time   param_C  \\\n",
       "0       0.005377      0.000274         0.002581        0.000707  3.174802   \n",
       "\n",
       "   param_gamma                                             params  \\\n",
       "0     0.008621  {'C': 3.174802103936398, 'gamma': 0.0086210288...   \n",
       "\n",
       "   split0_test_score  split1_test_score  split2_test_score  split3_test_score  \\\n",
       "0           0.945455           0.945455           0.913043           0.960145   \n",
       "\n",
       "   split4_test_score  mean_test_score  std_test_score  rank_test_score  \n",
       "0            0.93599         0.940018        0.015544                1  "
      ]
     },
     "execution_count": 13,
     "metadata": {},
     "output_type": "execute_result"
    }
   ],
   "source": [
    "board_obj.board.pin_read('wf_5_cv_8772869485692.csv')"
   ]
  },
  {
   "cell_type": "code",
   "execution_count": null,
   "metadata": {},
   "outputs": [],
   "source": [
    "db_obj.all_wflow()"
   ]
  },
  {
   "cell_type": "markdown",
   "metadata": {},
   "source": [
    "## testing the scripts"
   ]
  },
  {
   "cell_type": "code",
   "execution_count": 18,
   "metadata": {},
   "outputs": [],
   "source": [
    "test_db_path = tmp_dir.joinpath('db.SQLite').as_posix()\n",
    "test_board_path = tmp_dir.joinpath('board.yml').as_posix()"
   ]
  },
  {
   "cell_type": "markdown",
   "metadata": {},
   "source": [
    "### nested_resampling"
   ]
  },
  {
   "cell_type": "code",
   "execution_count": 20,
   "metadata": {},
   "outputs": [
    {
     "name": "stdout",
     "output_type": "stream",
     "text": [
      "usage: nested_resampling.py [-h] -b board\n",
      "                            (-s | -a | -w wflow-id [wflow-id ...]) [-f]\n",
      "                            [-c cores] [-icv inner-n-cv]\n",
      "                            [-icr inner-n-repeats] [-ocv outer-n-cv]\n",
      "                            [-ocr outer-n-repeats]\n",
      "                            db_path\n",
      "\n",
      "run nested_cv of the provided wflow_ids\n",
      "\n",
      "positional arguments:\n",
      "  db_path               path to the database\n",
      "\n",
      "optional arguments:\n",
      "  -h, --help            show this help message and exit\n",
      "  -b board, --board board\n",
      "                        path to the yaml file of the board\n",
      "  -s, --show-wflow      show list of current workflows\n",
      "  -a, --all-id          run all wflows in the db\n",
      "  -w wflow-id [wflow-id ...], --wflow-id wflow-id [wflow-id ...]\n",
      "                        input list of wflows to run\n",
      "  -f, --force           force runnning of wflows\n",
      "  -c cores, --cores cores\n",
      "                        number of cores for parallization\n",
      "  -icv inner-n-cv, --inner-n-cv inner-n-cv\n",
      "                        number of splits for the inner loop for hyper param\n",
      "                        tuning\n",
      "  -icr inner-n-repeats, --inner-n-repeats inner-n-repeats\n",
      "                        number of repeats for the inner loop for hyper param\n",
      "                        tuning\n",
      "  -ocv outer-n-cv, --outer-n-cv outer-n-cv\n",
      "                        number of splits for the outer loop for cv with best\n",
      "                        hyper param\n",
      "  -ocr outer-n-repeats, --outer-n-repeats outer-n-repeats\n",
      "                        number of repeats of splits for the outer loop for cv\n",
      "                        with best hyper param\n"
     ]
    }
   ],
   "source": [
    "%run -m rpwf.script.nested_resampling $test_db_path -b $test_board_path -h"
   ]
  },
  {
   "cell_type": "code",
   "execution_count": null,
   "metadata": {},
   "outputs": [],
   "source": [
    "%run -m rpwf.script.nested_resampling $test_db_path -b $test_board_path -s"
   ]
  },
  {
   "cell_type": "code",
   "execution_count": 24,
   "metadata": {},
   "outputs": [
    {
     "name": "stdout",
     "output_type": "stream",
     "text": [
      "running [5]\n",
      "running wflow 5\n",
      "Running <class 'sklearn.svm._classes.SVC'>\n",
      "Performing nested-cv using provided Rgrid\n",
      "Found in db, overwriting\n",
      "Exporting to db\n"
     ]
    },
    {
     "name": "stderr",
     "output_type": "stream",
     "text": [
      "Writing pin:\n",
      "Name: 'wf_5_nested_cv_8772789650357.csv'\n",
      "Version: 20221115T002302Z-fdd2c\n"
     ]
    }
   ],
   "source": [
    "%run -m rpwf.script.nested_resampling $test_db_path -b $test_board_path -w 5 -f -c 4 -icv 2 -icr 1 -ocv 2 -ocr 1"
   ]
  },
  {
   "cell_type": "code",
   "execution_count": null,
   "metadata": {},
   "outputs": [],
   "source": [
    "%run -m rpwf.script.nested_resampling $test_db_path -b $test_board_path -af -c 4 -icv 5 -icr 1 -ocv 5 -ocr 1"
   ]
  },
  {
   "cell_type": "markdown",
   "metadata": {},
   "source": [
    "### cross_validation"
   ]
  },
  {
   "cell_type": "code",
   "execution_count": 25,
   "metadata": {},
   "outputs": [
    {
     "name": "stdout",
     "output_type": "stream",
     "text": [
      "usage: cross_validation.py [-h] -b board\n",
      "                           (-s | -a | -w wflow-id [wflow-id ...]) [-f]\n",
      "                           [-c cores] [-ns n-splits] [-nr n-repeats] [-j]\n",
      "                           db_path\n",
      "\n",
      "run nested_cv of the provided wflow_ids\n",
      "\n",
      "positional arguments:\n",
      "  db_path               path to the database\n",
      "\n",
      "optional arguments:\n",
      "  -h, --help            show this help message and exit\n",
      "  -b board, --board board\n",
      "                        path to the yaml file of the board\n",
      "  -s, --show-wflow      show list of current workflows\n",
      "  -a, --all-id          run all wflows in the db\n",
      "  -w wflow-id [wflow-id ...], --wflow-id wflow-id [wflow-id ...]\n",
      "                        input list of wflows to run\n",
      "  -f, --force           force runnning of wflows\n",
      "  -c cores, --cores cores\n",
      "                        number of cores for parallization\n",
      "  -ns n-splits, --n-splits n-splits\n",
      "                        number of splits for the cross-validation\n",
      "  -nr n-repeats, --n-repeats n-repeats\n",
      "                        number of repeats for the cross-validation\n",
      "  -j, --joblib-model    export model as a joblib object\n"
     ]
    }
   ],
   "source": [
    "%run -m rpwf.script.cross_validation $test_db_path -b $test_board_path -h"
   ]
  },
  {
   "cell_type": "code",
   "execution_count": 29,
   "metadata": {},
   "outputs": [
    {
     "name": "stdout",
     "output_type": "stream",
     "text": [
      "   wflow_id model_tag   recipe_tag                   result_pin_name  \\\n",
      "0         1   xgboost     xgb_base  wf_1_nested_cv_8772792900226.csv   \n",
      "1         2   xgboost      xgb_pca                              None   \n",
      "2         3   svm_rbf  scaled_base                              None   \n",
      "3         4    glmnet  scaled_base                              None   \n",
      "4         5   svm_rbf   scaled_pca         wf_5_cv_8772869485692.csv   \n",
      "5         5   svm_rbf   scaled_pca  wf_5_nested_cv_8772789660450.csv   \n",
      "6         6    glmnet   scaled_pca         wf_6_cv_8731127476396.csv   \n",
      "\n",
      "                 model_pin_name  \n",
      "0                          None  \n",
      "1                          None  \n",
      "2                          None  \n",
      "3                          None  \n",
      "4  wf_5_cv_8772869485692.joblib  \n",
      "5                          None  \n",
      "6  wf_6_cv_8731127476396.joblib  \n"
     ]
    }
   ],
   "source": [
    "%run -m rpwf.script.cross_validation $test_db_path -b $test_board_path -s"
   ]
  },
  {
   "cell_type": "code",
   "execution_count": 32,
   "metadata": {},
   "outputs": [
    {
     "name": "stdout",
     "output_type": "stream",
     "text": [
      "running [5]\n",
      "running wflow 5\n",
      "Running <class 'sklearn.svm._classes.SVC'>\n",
      "Performing nested-cv using provided Rgrid\n",
      "Found in db, overwriting\n",
      "Exporting to db\n"
     ]
    },
    {
     "name": "stderr",
     "output_type": "stream",
     "text": [
      "Writing pin:\n",
      "Name: 'wf_5_cv_8772792950116.csv'\n",
      "Version: 20221115T002639Z-7aee5\n"
     ]
    }
   ],
   "source": [
    "%run -m rpwf.script.cross_validation $test_db_path -b $test_board_path -w 5 -f -c 4 -ns 5 -nr 1"
   ]
  }
 ],
 "metadata": {
  "kernelspec": {
   "display_name": "Python 3.9.13 ('base')",
   "language": "python",
   "name": "python3"
  },
  "language_info": {
   "codemirror_mode": {
    "name": "ipython",
    "version": 3
   },
   "file_extension": ".py",
   "mimetype": "text/x-python",
   "name": "python",
   "nbconvert_exporter": "python",
   "pygments_lexer": "ipython3",
   "version": "3.9.13"
  },
  "orig_nbformat": 4,
  "vscode": {
   "interpreter": {
    "hash": "f63ac73309c4ae03db5ccea21281553d3cb21b11568d42ccd07be76b29e1d657"
   }
  }
 },
 "nbformat": 4,
 "nbformat_minor": 2
}
