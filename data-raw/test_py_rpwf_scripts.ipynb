{
 "cells": [
  {
   "cell_type": "code",
   "execution_count": 18,
   "metadata": {},
   "outputs": [],
   "source": [
    "from typing import Dict \n",
    "from pathlib import Path\n",
    "import os\n",
    "import yaml"
   ]
  },
  {
   "cell_type": "code",
   "execution_count": 14,
   "metadata": {},
   "outputs": [
    {
     "name": "stdout",
     "output_type": "stream",
     "text": [
      "/tmp/RtmpzJiZbd/vignette1364d3efb3da5\n"
     ]
    }
   ],
   "source": [
    "tmp_dir = Path(\"/tmp/RtmpzJiZbd/vignette1364d3efb3da5\")\n",
    "tmp_dir_posix = str(tmp_dir.as_posix())\n",
    "print(tmp_dir_posix)"
   ]
  },
  {
   "cell_type": "code",
   "execution_count": 15,
   "metadata": {},
   "outputs": [
    {
     "data": {
      "text/plain": [
       "['board.yml', 'db.SQLite']"
      ]
     },
     "execution_count": 15,
     "metadata": {},
     "output_type": "execute_result"
    }
   ],
   "source": [
    "os.listdir(tmp_dir)"
   ]
  },
  {
   "cell_type": "code",
   "execution_count": 69,
   "metadata": {},
   "outputs": [],
   "source": [
    "import pathlib\n",
    "import importlib\n",
    "\n",
    "class Board:\n",
    "    def __init__(self, yml_path: str):\n",
    "        with open(pathlib.Path(yml_path), \"r\") as board_yml:\n",
    "            try:\n",
    "                self.board_meta = yaml.safe_load(board_yml)\n",
    "            except yaml.YAMLError as yaml_error:\n",
    "                raise yaml_error\n",
    "        self.board_type = self.board_meta.pop('board')\n",
    "        self.set_board()\n",
    "    \n",
    "    def set_board(self) -> None:\n",
    "        if(self.board_type == \"pins_board_folder\"):\n",
    "            self.board_constructor = getattr(importlib.import_module(\"pins\"),\"board_folder\")\n",
    "            self.board = self.board_constructor(**self.board_meta)\n",
    "            return None\n",
    "        raise NameError(f\"{self.board_type} is currently not implemented\")\n",
    "\n",
    "    def __repr__(self) -> str:\n",
    "        return str(self.board)"
   ]
  },
  {
   "cell_type": "code",
   "execution_count": 70,
   "metadata": {},
   "outputs": [],
   "source": [
    "my_board = Board(tmp_dir.joinpath(''))"
   ]
  },
  {
   "cell_type": "code",
   "execution_count": 71,
   "metadata": {},
   "outputs": [
    {
     "data": {
      "text/plain": [
       "<pins.boards.BaseBoard object at 0x7f68c248d610>"
      ]
     },
     "execution_count": 71,
     "metadata": {},
     "output_type": "execute_result"
    }
   ],
   "source": [
    "my_board"
   ]
  },
  {
   "cell_type": "code",
   "execution_count": 29,
   "metadata": {},
   "outputs": [],
   "source": [
    "test = board_constructor = getattr(importlib.import_module(\"pins\"),\"board_folder\")\n"
   ]
  },
  {
   "cell_type": "code",
   "execution_count": 37,
   "metadata": {},
   "outputs": [],
   "source": [
    "test_board = board_constructor(path='/tmp/RtmpzJiZbd/pins-1364d3b59fea8', versioned=True)"
   ]
  },
  {
   "cell_type": "code",
   "execution_count": 39,
   "metadata": {},
   "outputs": [
    {
     "ename": "TypeError",
     "evalue": "pin_browse() missing 1 required positional argument: 'name'",
     "output_type": "error",
     "traceback": [
      "\u001b[0;31m---------------------------------------------------------------------------\u001b[0m",
      "\u001b[0;31mTypeError\u001b[0m                                 Traceback (most recent call last)",
      "\u001b[0;32m/tmp/ipykernel_86525/3799575654.py\u001b[0m in \u001b[0;36m<module>\u001b[0;34m\u001b[0m\n\u001b[0;32m----> 1\u001b[0;31m \u001b[0mtest_board\u001b[0m\u001b[0;34m.\u001b[0m\u001b[0mpin_browse\u001b[0m\u001b[0;34m(\u001b[0m\u001b[0;34m)\u001b[0m\u001b[0;34m\u001b[0m\u001b[0;34m\u001b[0m\u001b[0m\n\u001b[0m",
      "\u001b[0;31mTypeError\u001b[0m: pin_browse() missing 1 required positional argument: 'name'"
     ]
    }
   ],
   "source": [
    "test_board.pin_browse()"
   ]
  },
  {
   "cell_type": "code",
   "execution_count": null,
   "metadata": {},
   "outputs": [],
   "source": [
    "tmp_dir = Path(\"/tmp/Rtmp4Le5GC/vignette100f721087ce9\")\n",
    "tmp_dir_posix = str(tmp_dir.as_posix())\n",
    "print(tmp_dir_posix)"
   ]
  },
  {
   "cell_type": "code",
   "execution_count": null,
   "metadata": {},
   "outputs": [],
   "source": [
    "import rpwf\n",
    "from rpwf import database, rpwf\n",
    "from pathlib import Path\n",
    "from typing import Dict\n",
    "from dataclasses import dataclass\n",
    "import pandas\n",
    "from sklearn.model_selection import (\n",
    "    RepeatedStratifiedKFold,\n",
    "    GridSearchCV,\n",
    "    cross_val_score\n",
    ")"
   ]
  },
  {
   "cell_type": "code",
   "execution_count": null,
   "metadata": {},
   "outputs": [],
   "source": [
    "tmp_dir = Path(\"/tmp/Rtmp4Le5GC/vignette100f721087ce9\")\n",
    "tmp_dir_posix = str(tmp_dir.as_posix())\n",
    "print(tmp_dir_posix)"
   ]
  },
  {
   "cell_type": "code",
   "execution_count": null,
   "metadata": {},
   "outputs": [],
   "source": [
    "board_dir = Path(\"/tmp/Rtmp4Le5GC/pins-100f7417b41bb\")"
   ]
  },
  {
   "cell_type": "code",
   "execution_count": null,
   "metadata": {},
   "outputs": [],
   "source": [
    "@dataclass\n",
    "class TestArgs:\n",
    "    db_name: str\n",
    "    project_root: str\n",
    "    cores: int\n",
    "    inner_n_cv: int\n",
    "    inner_n_repeats: int\n",
    "    outer_n_cv: int\n",
    "    outer_n_repeats: int"
   ]
  },
  {
   "cell_type": "code",
   "execution_count": null,
   "metadata": {},
   "outputs": [],
   "source": [
    "args = TestArgs(\"db.SQLite\", tmp_dir_posix, 3, 2, 1, 2, 1)\n",
    "wflow_id = 1"
   ]
  },
  {
   "cell_type": "code",
   "execution_count": null,
   "metadata": {},
   "outputs": [],
   "source": [
    "db_obj = database.Base(args.project_root, args.db_name)\n",
    "wflow_df = db_obj.all_wflow()"
   ]
  },
  {
   "cell_type": "code",
   "execution_count": null,
   "metadata": {},
   "outputs": [],
   "source": [
    "wflow_obj = rpwf.Wflow(db_obj, wflow_id)\n",
    "n_cores = args.cores\n",
    "\n",
    "# Generate the parameters\n",
    "p_grid = rpwf.RGrid(db_obj, wflow_obj).get_grid()\n",
    "\n",
    "df_obj = rpwf.TrainDf(db_obj, wflow_obj)\n",
    "X, y = df_obj.get_df_X(), df_obj.get_df_y()\n",
    "\n",
    "model_type_obj = rpwf.Model(db_obj, wflow_obj)\n",
    "base_learner = rpwf.BaseLearner(wflow_obj, model_type_obj).base_learner\n",
    "score = wflow_obj._get_par(\"costs\")"
   ]
  },
  {
   "cell_type": "code",
   "execution_count": null,
   "metadata": {},
   "outputs": [],
   "source": [
    "p_grid"
   ]
  },
  {
   "cell_type": "code",
   "execution_count": null,
   "metadata": {},
   "outputs": [],
   "source": [
    "test = p_grid[1]"
   ]
  },
  {
   "cell_type": "code",
   "execution_count": null,
   "metadata": {},
   "outputs": [],
   "source": [
    "test"
   ]
  },
  {
   "cell_type": "code",
   "execution_count": null,
   "metadata": {},
   "outputs": [],
   "source": [
    "def val_to_list(d: Dict):\n",
    "    for v in d:\n",
    "        d[v] = [d[v]]\n",
    "    return d"
   ]
  },
  {
   "cell_type": "code",
   "execution_count": null,
   "metadata": {},
   "outputs": [],
   "source": [
    "wrapped_grid = [None] * len(p_grid)"
   ]
  },
  {
   "cell_type": "code",
   "execution_count": null,
   "metadata": {},
   "outputs": [],
   "source": [
    "for i in range(len(p_grid)):\n",
    "    wrapped_grid[i]= val_to_list(p_grid[i])"
   ]
  },
  {
   "cell_type": "code",
   "execution_count": null,
   "metadata": {},
   "outputs": [],
   "source": [
    "wrapped_grid"
   ]
  },
  {
   "cell_type": "code",
   "execution_count": null,
   "metadata": {},
   "outputs": [],
   "source": [
    "# Nested resampling\n",
    "inner_cv = RepeatedStratifiedKFold(\n",
    "    n_splits=args.inner_n_cv, \n",
    "    n_repeats=args.inner_n_repeats,\n",
    "    random_state=wflow_obj.random_state\n",
    ")\n",
    "outer_cv = RepeatedStratifiedKFold(\n",
    "    n_splits=args.outer_n_cv,\n",
    "    n_repeats=args.outer_n_repeats,\n",
    "    random_state=wflow_obj.random_state,\n",
    ")\n",
    "\n",
    "if p_grid is None:\n",
    "    print(\"No tune grid specified, running with default params\")\n",
    "    nested_score = cross_val_score(\n",
    "        base_learner, X=X, y=y, cv=outer_cv, n_jobs=n_cores, scoring=score\n",
    "    )\n",
    "\n",
    "else:\n",
    "    print(\"Performing nested-cv using provided Rgrid\")\n",
    "    param_tuner = GridSearchCV(\n",
    "        estimator=base_learner,\n",
    "        param_grid=p_grid,\n",
    "        cv=inner_cv,\n",
    "        n_jobs=n_cores,\n",
    "        scoring=score,\n",
    "    )\n",
    "    nested_score = cross_val_score(param_tuner, X=X, y=y, cv=outer_cv)"
   ]
  },
  {
   "cell_type": "code",
   "execution_count": null,
   "metadata": {},
   "outputs": [],
   "source": [
    "# if args.export:\n",
    "    # Export the results\n",
    "exporter = rpwf.Export(db_obj, wflow_obj)\n",
    "nested_score_df = pandas.DataFrame(nested_score, columns=[score])\n",
    "exporter.export_cv(nested_score_df, \"nested_cv\")\n",
    "exporter.export_db()"
   ]
  },
  {
   "cell_type": "code",
   "execution_count": null,
   "metadata": {},
   "outputs": [],
   "source": [
    "%run -m rpwf.script.nested_resampling -h"
   ]
  },
  {
   "cell_type": "code",
   "execution_count": null,
   "metadata": {},
   "outputs": [],
   "source": [
    "%run -m rpwf.script.nested_resampling $tmp_dir_posix -db db.SQLite -s"
   ]
  },
  {
   "cell_type": "code",
   "execution_count": null,
   "metadata": {},
   "outputs": [],
   "source": [
    "%run -m rpwf.script.nested_resampling $tmp_dir_posix -db db.SQLite -af -c 7 -icv 5 -icr 1 -ocv 5 -ocr 1"
   ]
  }
 ],
 "metadata": {
  "kernelspec": {
   "display_name": "Python 3.9.13 ('base')",
   "language": "python",
   "name": "python3"
  },
  "language_info": {
   "codemirror_mode": {
    "name": "ipython",
    "version": 3
   },
   "file_extension": ".py",
   "mimetype": "text/x-python",
   "name": "python",
   "nbconvert_exporter": "python",
   "pygments_lexer": "ipython3",
   "version": "3.9.13"
  },
  "orig_nbformat": 4,
  "vscode": {
   "interpreter": {
    "hash": "f63ac73309c4ae03db5ccea21281553d3cb21b11568d42ccd07be76b29e1d657"
   }
  }
 },
 "nbformat": 4,
 "nbformat_minor": 2
}
