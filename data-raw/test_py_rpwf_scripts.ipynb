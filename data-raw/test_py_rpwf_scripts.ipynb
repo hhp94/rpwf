{
 "cells": [
  {
   "cell_type": "code",
   "execution_count": 4,
   "metadata": {},
   "outputs": [],
   "source": [
    "import rpwf\n",
    "from rpwf import database, rpwf\n",
    "from pathlib import Path\n",
    "from typing import Dict\n",
    "from dataclasses import dataclass\n",
    "import pandas\n",
    "from sklearn.model_selection import (\n",
    "    RepeatedStratifiedKFold,\n",
    "    RepeatedKFold,\n",
    "    GridSearchCV,\n",
    "    cross_val_score\n",
    ")"
   ]
  },
  {
   "cell_type": "code",
   "execution_count": 5,
   "metadata": {},
   "outputs": [
    {
     "name": "stdout",
     "output_type": "stream",
     "text": [
      "/tmp/RtmpgLMhdU/file45507ef85eed\n"
     ]
    }
   ],
   "source": [
    "tmp_dir = Path(\"/tmp/RtmpgLMhdU/file45507ef85eed\")\n",
    "tmp_dir_posix = str(tmp_dir)\n",
    "print(tmp_dir_posix)"
   ]
  },
  {
   "cell_type": "code",
   "execution_count": null,
   "metadata": {},
   "outputs": [],
   "source": [
    "os.listdir(tmp_dir)"
   ]
  },
  {
   "cell_type": "code",
   "execution_count": null,
   "metadata": {},
   "outputs": [],
   "source": [
    "@dataclass\n",
    "class TestArgs:\n",
    "    db_path: str\n",
    "    board: str\n",
    "    cores: int\n",
    "    inner_n_cv: int\n",
    "    inner_n_repeats: int\n",
    "    outer_n_cv: int\n",
    "    outer_n_repeats: int\n",
    "    joblib_model: bool"
   ]
  },
  {
   "cell_type": "code",
   "execution_count": null,
   "metadata": {},
   "outputs": [],
   "source": [
    "args = TestArgs(\n",
    "    tmp_dir.joinpath('db.SQLite').as_posix(), \n",
    "    tmp_dir.joinpath('board.yml').as_posix(), \n",
    "    3, 2, 1, 2, 1, True)\n",
    "db_obj = database.Base(args.db_path)\n",
    "board_obj = database.Board(args.board)"
   ]
  },
  {
   "cell_type": "code",
   "execution_count": null,
   "metadata": {},
   "outputs": [],
   "source": [
    "db_obj.all_wflow()"
   ]
  },
  {
   "cell_type": "code",
   "execution_count": null,
   "metadata": {},
   "outputs": [],
   "source": [
    "import sys\n",
    "from numpy import ravel\n",
    "# import sklearn.svm\n",
    "\n",
    "wflow_id = 2\n",
    "wflow_obj = rpwf.Wflow(db_obj, board_obj, wflow_id)\n",
    "n_cores = args.cores\n",
    "\n",
    "# Generate the parameters\n",
    "p_grid = rpwf.RGrid(db_obj, board_obj, wflow_obj).get_grid()\n",
    "\n",
    "df_obj = rpwf.TrainDf(db_obj, board_obj, wflow_obj)\n",
    "X, y = df_obj.get_df_X(True), df_obj.get_df_y(True)\n",
    "\n",
    "if y is None:\n",
    "    print(\"No target provided, exiting...\")\n",
    "    sys.exit()\n",
    "\n",
    "y = ravel(y)\n",
    "\n",
    "model_type_obj = rpwf.Model(db_obj, board_obj, wflow_obj)\n",
    "base_learner = rpwf.BaseLearner(wflow_obj, model_type_obj).base_learner\n",
    "# base_learner = sklearn.svm.SVR\n",
    "score = wflow_obj._get_par(\"costs\")"
   ]
  },
  {
   "cell_type": "code",
   "execution_count": null,
   "metadata": {},
   "outputs": [],
   "source": [
    "model_type_obj._get_model_mode()"
   ]
  },
  {
   "cell_type": "markdown",
   "metadata": {},
   "source": [
    "## nested_resampling.py"
   ]
  },
  {
   "cell_type": "code",
   "execution_count": null,
   "metadata": {},
   "outputs": [],
   "source": [
    "if (model_mode := model_type_obj._get_model_mode()) == 'regression':\n",
    "    vfold_cv = RepeatedKFold\n",
    "elif model_mode == 'classification':\n",
    "    vfold_cv = RepeatedStratifiedKFold\n",
    "else:\n",
    "    raise ValueError(\"Either `regression` or `classification` is expected\")\n",
    "\n",
    "inner_cv = vfold_cv(\n",
    "    n_splits=args.inner_n_cv, \n",
    "    n_repeats=args.inner_n_repeats,\n",
    "    random_state=wflow_obj.random_state\n",
    ")\n",
    "outer_cv = vfold_cv(\n",
    "    n_splits=args.outer_n_cv,\n",
    "    n_repeats=args.outer_n_repeats,\n",
    "    random_state=wflow_obj.random_state,\n",
    ")"
   ]
  },
  {
   "cell_type": "code",
   "execution_count": null,
   "metadata": {},
   "outputs": [],
   "source": [
    "if (model_mode := model_type_obj._get_model_mode()) == 'regression':\n",
    "    vfold_cv = RepeatedKFold\n",
    "elif model_mode == 'classification':\n",
    "    vfold_cv = RepeatedStratifiedKFold\n",
    "else:\n",
    "    raise ValueError(\"Either `regression` or `classification` is expected\")\n",
    "\n",
    "inner_cv = vfold_cv(\n",
    "    n_splits=args.inner_n_cv, \n",
    "    n_repeats=args.inner_n_repeats,\n",
    "    random_state=wflow_obj.random_state\n",
    ")\n",
    "outer_cv = vfold_cv(\n",
    "    n_splits=args.outer_n_cv,\n",
    "    n_repeats=args.outer_n_repeats,\n",
    "    random_state=wflow_obj.random_state,\n",
    ")\n",
    "\n",
    "if p_grid is None:\n",
    "    print(\"No tune grid specified, running with default params\")\n",
    "    nested_score = cross_val_score(\n",
    "        base_learner, X=X, y=y, cv=outer_cv, n_jobs=n_cores, scoring=score\n",
    "    )\n",
    "\n",
    "else:\n",
    "    print(\"Performing nested-cv using provided Rgrid\")\n",
    "    param_tuner = GridSearchCV(\n",
    "        estimator=base_learner,\n",
    "        param_grid=p_grid,\n",
    "        cv=inner_cv,\n",
    "        n_jobs=n_cores,\n",
    "        scoring=score,\n",
    "    )\n",
    "    nested_score = cross_val_score(param_tuner, X=X, y=y, cv=outer_cv)"
   ]
  },
  {
   "cell_type": "code",
   "execution_count": null,
   "metadata": {},
   "outputs": [],
   "source": [
    "nested_score"
   ]
  },
  {
   "cell_type": "code",
   "execution_count": null,
   "metadata": {},
   "outputs": [],
   "source": [
    "# if args.export:\n",
    "    # Export the results\n",
    "exporter = rpwf.Export(db_obj, board_obj, \"nested_cv\", wflow_obj)\n",
    "nested_score_df = pandas.DataFrame(nested_score, columns=[score])"
   ]
  },
  {
   "cell_type": "code",
   "execution_count": null,
   "metadata": {},
   "outputs": [],
   "source": [
    "exporter.export_cv(nested_score_df)\n",
    "exporter.export_db()"
   ]
  },
  {
   "cell_type": "code",
   "execution_count": null,
   "metadata": {},
   "outputs": [],
   "source": [
    "board_obj.board.pin_read('wf_5_nested_cv_8767807281529.csv')"
   ]
  },
  {
   "cell_type": "code",
   "execution_count": null,
   "metadata": {},
   "outputs": [],
   "source": [
    "db_obj.all_wflow()"
   ]
  },
  {
   "cell_type": "markdown",
   "metadata": {},
   "source": [
    "## cross_validation.py"
   ]
  },
  {
   "cell_type": "code",
   "execution_count": null,
   "metadata": {},
   "outputs": [],
   "source": [
    "cv = RepeatedStratifiedKFold(\n",
    "    n_splits=5,\n",
    "    n_repeats=1,\n",
    "    random_state=wflow_obj.random_state,\n",
    ")\n",
    "\n",
    "if p_grid is None:\n",
    "    print(\"No tune grid specified, running with default params\")\n",
    "    cv_results = cross_val_score(\n",
    "        base_learner, X=X, y=y, cv=cv, n_jobs=n_cores, scoring=score\n",
    "    )\n",
    "else:\n",
    "    print(\"Performing nested-cv using provided Rgrid\")\n",
    "    param_tuner = GridSearchCV(\n",
    "        estimator=base_learner,\n",
    "        param_grid=p_grid,\n",
    "        cv=cv,\n",
    "        n_jobs=n_cores,\n",
    "        scoring=score\n",
    "    )\n",
    "    param_tuner.fit(X=X, y=y)\n",
    "    tuning_results = pandas.DataFrame(param_tuner.cv_results_)\n",
    "    cv_results = tuning_results.loc[tuning_results['rank_test_score'] == 1]"
   ]
  },
  {
   "cell_type": "code",
   "execution_count": null,
   "metadata": {},
   "outputs": [],
   "source": [
    "cv_results"
   ]
  },
  {
   "cell_type": "code",
   "execution_count": null,
   "metadata": {},
   "outputs": [],
   "source": [
    "# if args.export:\n",
    "    # Export the results\n",
    "exporter = rpwf.Export(db_obj, board_obj, \"cv\", wflow_obj)\n",
    "exporter.export_cv(pandas.DataFrame(cv_results))\n",
    "if args.joblib_model and param_tuner:\n",
    "    exporter.export_model(param_tuner.best_estimator_)\n",
    "exporter.export_db()"
   ]
  },
  {
   "cell_type": "code",
   "execution_count": null,
   "metadata": {},
   "outputs": [],
   "source": [
    "board_obj.board.pin_read('wf_5_cv_8772869485692.csv')"
   ]
  },
  {
   "cell_type": "code",
   "execution_count": null,
   "metadata": {},
   "outputs": [],
   "source": [
    "db_obj.all_wflow()"
   ]
  },
  {
   "cell_type": "markdown",
   "metadata": {},
   "source": [
    "## testing the scripts"
   ]
  },
  {
   "cell_type": "code",
   "execution_count": 6,
   "metadata": {},
   "outputs": [],
   "source": [
    "test_db_path = tmp_dir.joinpath('db.SQLite').as_posix()\n",
    "test_board_path = tmp_dir.joinpath('board.yml').as_posix()"
   ]
  },
  {
   "cell_type": "markdown",
   "metadata": {},
   "source": [
    "### nested_resampling"
   ]
  },
  {
   "cell_type": "code",
   "execution_count": null,
   "metadata": {},
   "outputs": [],
   "source": [
    "%run -m rpwf.script.nested_resampling $test_db_path -b $test_board_path -h"
   ]
  },
  {
   "cell_type": "code",
   "execution_count": 7,
   "metadata": {},
   "outputs": [
    {
     "name": "stdout",
     "output_type": "stream",
     "text": [
      "Connecting to sqlite:////tmp/RtmpgLMhdU/file45507ef85eed/db.SQLite\n",
      "   wflow_id model_tag recipe_tag result_pin_name model_pin_name\n",
      "0         1      enet       None            None           None\n",
      "1         2   svm_rbf       None            None           None\n"
     ]
    }
   ],
   "source": [
    "%run -m rpwf.script.nested_resampling $test_db_path -b $test_board_path -s"
   ]
  },
  {
   "cell_type": "code",
   "execution_count": 8,
   "metadata": {},
   "outputs": [
    {
     "name": "stdout",
     "output_type": "stream",
     "text": [
      "Either invalid wflow or all requested wflow already have results\n"
     ]
    }
   ],
   "source": [
    "%run -m rpwf.script.nested_resampling $test_db_path -b $test_board_path -w 5 -f -c 4 -icv 5 -icr 2 -ocv 5 -ocr 2"
   ]
  },
  {
   "cell_type": "code",
   "execution_count": null,
   "metadata": {},
   "outputs": [],
   "source": [
    "%run -m rpwf.script.nested_resampling $test_db_path -b $test_board_path -af -c 4 -icv 5 -icr 2 -ocv 5 -ocr 2"
   ]
  },
  {
   "cell_type": "markdown",
   "metadata": {},
   "source": [
    "### cross_validation"
   ]
  },
  {
   "cell_type": "code",
   "execution_count": null,
   "metadata": {},
   "outputs": [],
   "source": [
    "%run -m rpwf.script.cross_validation $test_db_path -b $test_board_path -h"
   ]
  },
  {
   "cell_type": "code",
   "execution_count": null,
   "metadata": {},
   "outputs": [],
   "source": [
    "%run -m rpwf.script.cross_validation $test_db_path -b $test_board_path -s"
   ]
  },
  {
   "cell_type": "code",
   "execution_count": null,
   "metadata": {},
   "outputs": [],
   "source": [
    "%run -m rpwf.script.cross_validation $test_db_path -b $test_board_path -w 5 -f -c 4 -ns 5 -nr 1"
   ]
  }
 ],
 "metadata": {
  "kernelspec": {
   "display_name": "Python 3.9.13 ('base')",
   "language": "python",
   "name": "python3"
  },
  "language_info": {
   "codemirror_mode": {
    "name": "ipython",
    "version": 3
   },
   "file_extension": ".py",
   "mimetype": "text/x-python",
   "name": "python",
   "nbconvert_exporter": "python",
   "pygments_lexer": "ipython3",
   "version": "3.9.13"
  },
  "orig_nbformat": 4,
  "vscode": {
   "interpreter": {
    "hash": "f63ac73309c4ae03db5ccea21281553d3cb21b11568d42ccd07be76b29e1d657"
   }
  }
 },
 "nbformat": 4,
 "nbformat_minor": 2
}
