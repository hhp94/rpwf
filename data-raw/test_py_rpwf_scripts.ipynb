{
 "cells": [
  {
   "cell_type": "code",
   "execution_count": 1,
   "metadata": {},
   "outputs": [],
   "source": [
    "import rpwf\n",
    "from rpwf import database, rpwf\n",
    "from pathlib import Path\n",
    "from typing import Dict\n",
    "from dataclasses import dataclass\n",
    "import pandas\n",
    "from sklearn.model_selection import (\n",
    "    RepeatedStratifiedKFold,\n",
    "    GridSearchCV,\n",
    "    cross_val_score\n",
    ")"
   ]
  },
  {
   "cell_type": "code",
   "execution_count": 2,
   "metadata": {},
   "outputs": [
    {
     "name": "stdout",
     "output_type": "stream",
     "text": [
      "/tmp/RtmpzJiZbd/vignette1364d3efb3da5\n"
     ]
    }
   ],
   "source": [
    "tmp_dir = Path(\"/tmp/RtmpzJiZbd/vignette1364d3efb3da5\")\n",
    "tmp_dir_posix = str(tmp_dir.as_posix())\n",
    "print(tmp_dir_posix)"
   ]
  },
  {
   "cell_type": "code",
   "execution_count": 3,
   "metadata": {},
   "outputs": [
    {
     "data": {
      "text/plain": [
       "['board.yml', 'db.SQLite']"
      ]
     },
     "execution_count": 3,
     "metadata": {},
     "output_type": "execute_result"
    }
   ],
   "source": [
    "os.listdir(tmp_dir)"
   ]
  },
  {
   "cell_type": "code",
   "execution_count": 4,
   "metadata": {},
   "outputs": [],
   "source": [
    "@dataclass\n",
    "class TestArgs:\n",
    "    db_path: str\n",
    "    board: str\n",
    "    cores: int\n",
    "    inner_n_cv: int\n",
    "    inner_n_repeats: int\n",
    "    outer_n_cv: int\n",
    "    outer_n_repeats: int"
   ]
  },
  {
   "cell_type": "code",
   "execution_count": 9,
   "metadata": {},
   "outputs": [],
   "source": [
    "args = TestArgs(tmp_dir.joinpath('db.SQLite'), tmp_dir.joinpath('board.yml'), 3, 2, 1, 2, 1)\n",
    "wflow_id = 6"
   ]
  },
  {
   "cell_type": "code",
   "execution_count": 10,
   "metadata": {},
   "outputs": [],
   "source": [
    "db_obj = database.Base(args.db_path)\n",
    "board_obj = database.Board(args.board)\n",
    "wflow_df = db_obj.all_wflow()"
   ]
  },
  {
   "cell_type": "code",
   "execution_count": 11,
   "metadata": {},
   "outputs": [
    {
     "data": {
      "text/html": [
       "<div>\n",
       "<style scoped>\n",
       "    .dataframe tbody tr th:only-of-type {\n",
       "        vertical-align: middle;\n",
       "    }\n",
       "\n",
       "    .dataframe tbody tr th {\n",
       "        vertical-align: top;\n",
       "    }\n",
       "\n",
       "    .dataframe thead th {\n",
       "        text-align: right;\n",
       "    }\n",
       "</style>\n",
       "<table border=\"1\" class=\"dataframe\">\n",
       "  <thead>\n",
       "    <tr style=\"text-align: right;\">\n",
       "      <th></th>\n",
       "      <th>wflow_id</th>\n",
       "      <th>model_tag</th>\n",
       "      <th>recipe_tag</th>\n",
       "      <th>result_path</th>\n",
       "    </tr>\n",
       "  </thead>\n",
       "  <tbody>\n",
       "    <tr>\n",
       "      <th>0</th>\n",
       "      <td>1</td>\n",
       "      <td>XGBClassifier</td>\n",
       "      <td>xgb_base</td>\n",
       "      <td>None</td>\n",
       "    </tr>\n",
       "    <tr>\n",
       "      <th>1</th>\n",
       "      <td>2</td>\n",
       "      <td>XGBClassifier</td>\n",
       "      <td>xgb_pca</td>\n",
       "      <td>None</td>\n",
       "    </tr>\n",
       "    <tr>\n",
       "      <th>2</th>\n",
       "      <td>3</td>\n",
       "      <td>svm_rbf</td>\n",
       "      <td>scaled_base</td>\n",
       "      <td>None</td>\n",
       "    </tr>\n",
       "    <tr>\n",
       "      <th>3</th>\n",
       "      <td>4</td>\n",
       "      <td>glmnet</td>\n",
       "      <td>scaled_base</td>\n",
       "      <td>None</td>\n",
       "    </tr>\n",
       "    <tr>\n",
       "      <th>4</th>\n",
       "      <td>5</td>\n",
       "      <td>svm_rbf</td>\n",
       "      <td>scaled_pca</td>\n",
       "      <td>None</td>\n",
       "    </tr>\n",
       "    <tr>\n",
       "      <th>5</th>\n",
       "      <td>6</td>\n",
       "      <td>glmnet</td>\n",
       "      <td>scaled_pca</td>\n",
       "      <td>None</td>\n",
       "    </tr>\n",
       "  </tbody>\n",
       "</table>\n",
       "</div>"
      ],
      "text/plain": [
       "   wflow_id      model_tag   recipe_tag result_path\n",
       "0         1  XGBClassifier     xgb_base        None\n",
       "1         2  XGBClassifier      xgb_pca        None\n",
       "2         3        svm_rbf  scaled_base        None\n",
       "3         4         glmnet  scaled_base        None\n",
       "4         5        svm_rbf   scaled_pca        None\n",
       "5         6         glmnet   scaled_pca        None"
      ]
     },
     "execution_count": 11,
     "metadata": {},
     "output_type": "execute_result"
    }
   ],
   "source": [
    "wflow_df"
   ]
  },
  {
   "cell_type": "code",
   "execution_count": 12,
   "metadata": {},
   "outputs": [
    {
     "ename": "AttributeError",
     "evalue": "'DataFrame' object has no attribute 'to_pylist'",
     "output_type": "error",
     "traceback": [
      "\u001b[0;31m---------------------------------------------------------------------------\u001b[0m",
      "\u001b[0;31mAttributeError\u001b[0m                            Traceback (most recent call last)",
      "\u001b[0;32m/tmp/ipykernel_97050/1246114926.py\u001b[0m in \u001b[0;36m<module>\u001b[0;34m\u001b[0m\n\u001b[1;32m      3\u001b[0m \u001b[0;34m\u001b[0m\u001b[0m\n\u001b[1;32m      4\u001b[0m \u001b[0;31m# Generate the parameters\u001b[0m\u001b[0;34m\u001b[0m\u001b[0;34m\u001b[0m\u001b[0m\n\u001b[0;32m----> 5\u001b[0;31m \u001b[0mp_grid\u001b[0m \u001b[0;34m=\u001b[0m \u001b[0mrpwf\u001b[0m\u001b[0;34m.\u001b[0m\u001b[0mRGrid\u001b[0m\u001b[0;34m(\u001b[0m\u001b[0mdb_obj\u001b[0m\u001b[0;34m,\u001b[0m \u001b[0mboard_obj\u001b[0m\u001b[0;34m,\u001b[0m \u001b[0mwflow_obj\u001b[0m\u001b[0;34m)\u001b[0m\u001b[0;34m.\u001b[0m\u001b[0mget_grid\u001b[0m\u001b[0;34m(\u001b[0m\u001b[0;34m)\u001b[0m\u001b[0;34m\u001b[0m\u001b[0;34m\u001b[0m\u001b[0m\n\u001b[0m\u001b[1;32m      6\u001b[0m \u001b[0;34m\u001b[0m\u001b[0m\n\u001b[1;32m      7\u001b[0m \u001b[0mdf_obj\u001b[0m \u001b[0;34m=\u001b[0m \u001b[0mrpwf\u001b[0m\u001b[0;34m.\u001b[0m\u001b[0mTrainDf\u001b[0m\u001b[0;34m(\u001b[0m\u001b[0mdb_obj\u001b[0m\u001b[0;34m,\u001b[0m \u001b[0mboard_obj\u001b[0m\u001b[0;34m,\u001b[0m \u001b[0mwflow_obj\u001b[0m\u001b[0;34m)\u001b[0m\u001b[0;34m\u001b[0m\u001b[0;34m\u001b[0m\u001b[0m\n",
      "\u001b[0;32m~/opt/rpwf/rpwf/rpwf.py\u001b[0m in \u001b[0;36mget_grid\u001b[0;34m(self)\u001b[0m\n\u001b[1;32m     97\u001b[0m             \u001b[0;32mreturn\u001b[0m \u001b[0;32mNone\u001b[0m\u001b[0;34m\u001b[0m\u001b[0;34m\u001b[0m\u001b[0m\n\u001b[1;32m     98\u001b[0m         \u001b[0;31m# convert the parquet file to list of rows\u001b[0m\u001b[0;34m\u001b[0m\u001b[0;34m\u001b[0m\u001b[0m\n\u001b[0;32m---> 99\u001b[0;31m         \u001b[0mgrid\u001b[0m \u001b[0;34m=\u001b[0m \u001b[0mself\u001b[0m\u001b[0;34m.\u001b[0m\u001b[0mparquet\u001b[0m\u001b[0;34m.\u001b[0m\u001b[0mto_pylist\u001b[0m\u001b[0;34m(\u001b[0m\u001b[0;34m)\u001b[0m\u001b[0;34m\u001b[0m\u001b[0;34m\u001b[0m\u001b[0m\n\u001b[0m\u001b[1;32m    100\u001b[0m         \u001b[0;31m# wrap the value of each row in a list\u001b[0m\u001b[0;34m\u001b[0m\u001b[0;34m\u001b[0m\u001b[0m\n\u001b[1;32m    101\u001b[0m         \u001b[0ml\u001b[0m \u001b[0;34m=\u001b[0m \u001b[0mlen\u001b[0m\u001b[0;34m(\u001b[0m\u001b[0mgrid\u001b[0m\u001b[0;34m)\u001b[0m\u001b[0;34m\u001b[0m\u001b[0;34m\u001b[0m\u001b[0m\n",
      "\u001b[0;32m~/miniconda3/envs/py39/lib/python3.9/site-packages/pandas/core/generic.py\u001b[0m in \u001b[0;36m__getattr__\u001b[0;34m(self, name)\u001b[0m\n\u001b[1;32m   5573\u001b[0m         ):\n\u001b[1;32m   5574\u001b[0m             \u001b[0;32mreturn\u001b[0m \u001b[0mself\u001b[0m\u001b[0;34m[\u001b[0m\u001b[0mname\u001b[0m\u001b[0;34m]\u001b[0m\u001b[0;34m\u001b[0m\u001b[0;34m\u001b[0m\u001b[0m\n\u001b[0;32m-> 5575\u001b[0;31m         \u001b[0;32mreturn\u001b[0m \u001b[0mobject\u001b[0m\u001b[0;34m.\u001b[0m\u001b[0m__getattribute__\u001b[0m\u001b[0;34m(\u001b[0m\u001b[0mself\u001b[0m\u001b[0;34m,\u001b[0m \u001b[0mname\u001b[0m\u001b[0;34m)\u001b[0m\u001b[0;34m\u001b[0m\u001b[0;34m\u001b[0m\u001b[0m\n\u001b[0m\u001b[1;32m   5576\u001b[0m \u001b[0;34m\u001b[0m\u001b[0m\n\u001b[1;32m   5577\u001b[0m     \u001b[0;32mdef\u001b[0m \u001b[0m__setattr__\u001b[0m\u001b[0;34m(\u001b[0m\u001b[0mself\u001b[0m\u001b[0;34m,\u001b[0m \u001b[0mname\u001b[0m\u001b[0;34m:\u001b[0m \u001b[0mstr\u001b[0m\u001b[0;34m,\u001b[0m \u001b[0mvalue\u001b[0m\u001b[0;34m)\u001b[0m \u001b[0;34m->\u001b[0m \u001b[0;32mNone\u001b[0m\u001b[0;34m:\u001b[0m\u001b[0;34m\u001b[0m\u001b[0;34m\u001b[0m\u001b[0m\n",
      "\u001b[0;31mAttributeError\u001b[0m: 'DataFrame' object has no attribute 'to_pylist'"
     ]
    }
   ],
   "source": [
    "wflow_obj = rpwf.Wflow(db_obj, board_obj, wflow_id)\n",
    "n_cores = args.cores\n",
    "\n",
    "# Generate the parameters\n",
    "p_grid = rpwf.RGrid(db_obj, board_obj, wflow_obj).get_grid()\n",
    "\n",
    "df_obj = rpwf.TrainDf(db_obj, board_obj, wflow_obj)\n",
    "X, y = df_obj.get_df_X(), df_obj.get_df_y()\n",
    "\n",
    "model_type_obj = rpwf.Model(db_obj, board_obj, wflow_obj)\n",
    "base_learner = rpwf.BaseLearner(wflow_obj, board_obj, model_type_obj).base_learner\n",
    "score = wflow_obj._get_par(\"costs\")"
   ]
  },
  {
   "cell_type": "code",
   "execution_count": null,
   "metadata": {},
   "outputs": [],
   "source": [
    "p_grid"
   ]
  },
  {
   "cell_type": "code",
   "execution_count": null,
   "metadata": {},
   "outputs": [],
   "source": [
    "test = p_grid[1]"
   ]
  },
  {
   "cell_type": "code",
   "execution_count": null,
   "metadata": {},
   "outputs": [],
   "source": [
    "test"
   ]
  },
  {
   "cell_type": "code",
   "execution_count": null,
   "metadata": {},
   "outputs": [],
   "source": [
    "def val_to_list(d: Dict):\n",
    "    for v in d:\n",
    "        d[v] = [d[v]]\n",
    "    return d"
   ]
  },
  {
   "cell_type": "code",
   "execution_count": null,
   "metadata": {},
   "outputs": [],
   "source": [
    "wrapped_grid = [None] * len(p_grid)"
   ]
  },
  {
   "cell_type": "code",
   "execution_count": null,
   "metadata": {},
   "outputs": [],
   "source": [
    "for i in range(len(p_grid)):\n",
    "    wrapped_grid[i]= val_to_list(p_grid[i])"
   ]
  },
  {
   "cell_type": "code",
   "execution_count": null,
   "metadata": {},
   "outputs": [],
   "source": [
    "wrapped_grid"
   ]
  },
  {
   "cell_type": "code",
   "execution_count": null,
   "metadata": {},
   "outputs": [],
   "source": [
    "# Nested resampling\n",
    "inner_cv = RepeatedStratifiedKFold(\n",
    "    n_splits=args.inner_n_cv, \n",
    "    n_repeats=args.inner_n_repeats,\n",
    "    random_state=wflow_obj.random_state\n",
    ")\n",
    "outer_cv = RepeatedStratifiedKFold(\n",
    "    n_splits=args.outer_n_cv,\n",
    "    n_repeats=args.outer_n_repeats,\n",
    "    random_state=wflow_obj.random_state,\n",
    ")\n",
    "\n",
    "if p_grid is None:\n",
    "    print(\"No tune grid specified, running with default params\")\n",
    "    nested_score = cross_val_score(\n",
    "        base_learner, X=X, y=y, cv=outer_cv, n_jobs=n_cores, scoring=score\n",
    "    )\n",
    "\n",
    "else:\n",
    "    print(\"Performing nested-cv using provided Rgrid\")\n",
    "    param_tuner = GridSearchCV(\n",
    "        estimator=base_learner,\n",
    "        param_grid=p_grid,\n",
    "        cv=inner_cv,\n",
    "        n_jobs=n_cores,\n",
    "        scoring=score,\n",
    "    )\n",
    "    nested_score = cross_val_score(param_tuner, X=X, y=y, cv=outer_cv)"
   ]
  },
  {
   "cell_type": "code",
   "execution_count": null,
   "metadata": {},
   "outputs": [],
   "source": [
    "# if args.export:\n",
    "    # Export the results\n",
    "exporter = rpwf.Export(db_obj, wflow_obj)\n",
    "nested_score_df = pandas.DataFrame(nested_score, columns=[score])\n",
    "exporter.export_cv(nested_score_df, \"nested_cv\")\n",
    "exporter.export_db()"
   ]
  },
  {
   "cell_type": "code",
   "execution_count": null,
   "metadata": {},
   "outputs": [],
   "source": [
    "%run -m rpwf.script.nested_resampling -h"
   ]
  },
  {
   "cell_type": "code",
   "execution_count": null,
   "metadata": {},
   "outputs": [],
   "source": [
    "%run -m rpwf.script.nested_resampling $tmp_dir_posix -db db.SQLite -s"
   ]
  },
  {
   "cell_type": "code",
   "execution_count": null,
   "metadata": {},
   "outputs": [],
   "source": [
    "%run -m rpwf.script.nested_resampling $tmp_dir_posix -db db.SQLite -af -c 7 -icv 5 -icr 1 -ocv 5 -ocr 1"
   ]
  }
 ],
 "metadata": {
  "kernelspec": {
   "display_name": "Python 3.9.13 ('base')",
   "language": "python",
   "name": "python3"
  },
  "language_info": {
   "codemirror_mode": {
    "name": "ipython",
    "version": 3
   },
   "file_extension": ".py",
   "mimetype": "text/x-python",
   "name": "python",
   "nbconvert_exporter": "python",
   "pygments_lexer": "ipython3",
   "version": "3.9.13"
  },
  "orig_nbformat": 4,
  "vscode": {
   "interpreter": {
    "hash": "f63ac73309c4ae03db5ccea21281553d3cb21b11568d42ccd07be76b29e1d657"
   }
  }
 },
 "nbformat": 4,
 "nbformat_minor": 2
}
