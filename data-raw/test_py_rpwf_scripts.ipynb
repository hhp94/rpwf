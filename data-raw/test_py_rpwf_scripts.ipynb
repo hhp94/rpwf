{
 "cells": [
  {
   "cell_type": "code",
   "execution_count": 2,
   "metadata": {},
   "outputs": [],
   "source": [
    "import rpwf\n",
    "from rpwf import database, rpwf\n",
    "from pathlib import Path\n",
    "from typing import Dict\n",
    "from dataclasses import dataclass\n",
    "import pandas\n",
    "from sklearn.model_selection import (\n",
    "    RepeatedStratifiedKFold,\n",
    "    GridSearchCV,\n",
    "    cross_val_score\n",
    ")"
   ]
  },
  {
   "cell_type": "code",
   "execution_count": 3,
   "metadata": {},
   "outputs": [
    {
     "name": "stdout",
     "output_type": "stream",
     "text": [
      "C:/Users/hp458/AppData/Local/Temp/1/Rtmp0kP0ze/vignetteab4c80a84\n"
     ]
    }
   ],
   "source": [
    "tmp_dir = Path(\"C:\\\\Users\\\\hp458\\\\AppData\\\\Local\\\\Temp\\\\1\\\\Rtmp0kP0ze\\\\vignetteab4c80a84\")\n",
    "tmp_dir_posix = str(tmp_dir.as_posix())\n",
    "print(tmp_dir_posix)"
   ]
  },
  {
   "cell_type": "code",
   "execution_count": null,
   "metadata": {},
   "outputs": [],
   "source": [
    "@dataclass\n",
    "class TestArgs:\n",
    "    db_name: str\n",
    "    project_root: str\n",
    "    cores: int\n",
    "    inner_n_cv: int\n",
    "    inner_n_repeats: int\n",
    "    outer_n_cv: int\n",
    "    outer_n_repeats: int"
   ]
  },
  {
   "cell_type": "code",
   "execution_count": null,
   "metadata": {},
   "outputs": [],
   "source": [
    "args = TestArgs(\"db.SQLite\", tmp_dir_posix, 3, 2, 1, 2, 1)\n",
    "wflow_id = 1"
   ]
  },
  {
   "cell_type": "code",
   "execution_count": null,
   "metadata": {},
   "outputs": [],
   "source": [
    "db_obj = database.Base(args.project_root, args.db_name)\n",
    "wflow_df = db_obj.all_wflow()"
   ]
  },
  {
   "cell_type": "code",
   "execution_count": null,
   "metadata": {},
   "outputs": [],
   "source": [
    "wflow_obj = rpwf.Wflow(db_obj, wflow_id)\n",
    "n_cores = args.cores\n",
    "\n",
    "# Generate the parameters\n",
    "p_grid = rpwf.RGrid(db_obj, wflow_obj).get_grid()\n",
    "\n",
    "df_obj = rpwf.TrainDf(db_obj, wflow_obj)\n",
    "X, y = df_obj.get_df_X(), df_obj.get_df_y()\n",
    "\n",
    "model_type_obj = rpwf.Model(db_obj, wflow_obj)\n",
    "base_learner = rpwf.BaseLearner(wflow_obj, model_type_obj).base_learner\n",
    "score = wflow_obj._get_par(\"costs\")"
   ]
  },
  {
   "cell_type": "code",
   "execution_count": null,
   "metadata": {},
   "outputs": [],
   "source": [
    "p_grid"
   ]
  },
  {
   "cell_type": "code",
   "execution_count": null,
   "metadata": {},
   "outputs": [],
   "source": [
    "test = p_grid[1]"
   ]
  },
  {
   "cell_type": "code",
   "execution_count": null,
   "metadata": {},
   "outputs": [],
   "source": [
    "test"
   ]
  },
  {
   "cell_type": "code",
   "execution_count": null,
   "metadata": {},
   "outputs": [],
   "source": [
    "def val_to_list(d: Dict):\n",
    "    for v in d:\n",
    "        d[v] = [d[v]]\n",
    "    return d"
   ]
  },
  {
   "cell_type": "code",
   "execution_count": null,
   "metadata": {},
   "outputs": [],
   "source": [
    "wrapped_grid = [None] * len(p_grid)"
   ]
  },
  {
   "cell_type": "code",
   "execution_count": null,
   "metadata": {},
   "outputs": [],
   "source": [
    "for i in range(len(p_grid)):\n",
    "    wrapped_grid[i]= val_to_list(p_grid[i])"
   ]
  },
  {
   "cell_type": "code",
   "execution_count": null,
   "metadata": {},
   "outputs": [],
   "source": [
    "wrapped_grid"
   ]
  },
  {
   "cell_type": "code",
   "execution_count": null,
   "metadata": {},
   "outputs": [],
   "source": [
    "# Nested resampling\n",
    "inner_cv = RepeatedStratifiedKFold(\n",
    "    n_splits=args.inner_n_cv, \n",
    "    n_repeats=args.inner_n_repeats,\n",
    "    random_state=wflow_obj.random_state\n",
    ")\n",
    "outer_cv = RepeatedStratifiedKFold(\n",
    "    n_splits=args.outer_n_cv,\n",
    "    n_repeats=args.outer_n_repeats,\n",
    "    random_state=wflow_obj.random_state,\n",
    ")\n",
    "\n",
    "if p_grid is None:\n",
    "    print(\"No tune grid specified, running with default params\")\n",
    "    nested_score = cross_val_score(\n",
    "        base_learner, X=X, y=y, cv=outer_cv, n_jobs=n_cores, scoring=score\n",
    "    )\n",
    "\n",
    "else:\n",
    "    print(\"Performing nested-cv using provided Rgrid\")\n",
    "    param_tuner = GridSearchCV(\n",
    "        estimator=base_learner,\n",
    "        param_grid=p_grid,\n",
    "        cv=inner_cv,\n",
    "        n_jobs=n_cores,\n",
    "        scoring=score,\n",
    "    )\n",
    "    nested_score = cross_val_score(param_tuner, X=X, y=y, cv=outer_cv)"
   ]
  },
  {
   "cell_type": "code",
   "execution_count": null,
   "metadata": {},
   "outputs": [],
   "source": [
    "# if args.export:\n",
    "    # Export the results\n",
    "exporter = rpwf.Export(db_obj, wflow_obj)\n",
    "nested_score_df = pandas.DataFrame(nested_score, columns=[score])\n",
    "exporter.export_cv(nested_score_df, \"nested_cv\")\n",
    "exporter.export_db()"
   ]
  },
  {
   "cell_type": "code",
   "execution_count": null,
   "metadata": {},
   "outputs": [],
   "source": [
    "%run -m rpwf.script.nested_resampling -h"
   ]
  },
  {
   "cell_type": "code",
   "execution_count": 4,
   "metadata": {},
   "outputs": [
    {
     "name": "stdout",
     "output_type": "stream",
     "text": [
      "db is at C:\\/Users/hp458/AppData/Local/Temp/1/Rtmp0kP0ze/vignetteab4c80a84/rpwfDb/db.SQLite\n",
      "Connecting to sqlite:///C:\\/Users/hp458/AppData/Local/Temp/1/Rtmp0kP0ze/vignetteab4c80a84/rpwfDb/db.SQLite\n",
      "   wflow_id      model_tag   recipe_tag  \\\n",
      "0         1  XGBClassifier     xgb_base   \n",
      "1         2  XGBClassifier      xgb_pca   \n",
      "2         3        svm_rbf  scaled_base   \n",
      "3         4           enet  scaled_base   \n",
      "4         5        svm_rbf   scaled_pca   \n",
      "5         6           enet   scaled_pca   \n",
      "\n",
      "                                py_base_learner_args result_path  \n",
      "0  {\"eval_metric\":\"logloss\",\"n_estimators\":50,\"us...        None  \n",
      "1  {\"eval_metric\":\"logloss\",\"n_estimators\":50,\"us...        None  \n",
      "2                  {\"kernel\":\"rbf\",\"cache_size\":500}        None  \n",
      "3  {\"solver\":\"saga\",\"penalty\":\"elasticnet\",\"warm_...        None  \n",
      "4                  {\"kernel\":\"rbf\",\"cache_size\":500}        None  \n",
      "5  {\"solver\":\"saga\",\"penalty\":\"elasticnet\",\"warm_...        None  \n"
     ]
    }
   ],
   "source": [
    "%run -m rpwf.script.nested_resampling $tmp_dir_posix -db db.SQLite -s"
   ]
  },
  {
   "cell_type": "code",
   "execution_count": 6,
   "metadata": {},
   "outputs": [
    {
     "name": "stdout",
     "output_type": "stream",
     "text": [
      "running [1, 2, 3, 4, 5, 6]\n",
      "running wflow 1\n",
      "Running <class 'xgboost.sklearn.XGBClassifier'>\n",
      "Performing nested-cv using provided Rgrid\n"
     ]
    },
    {
     "name": "stderr",
     "output_type": "stream",
     "text": [
      "c:\\Miniconda3\\envs\\py39\\lib\\site-packages\\pdcast\\core.py:184: FutureWarning: iteritems is deprecated and will be removed in a future version. Use .items instead.\n",
      "  schema = {\n"
     ]
    }
   ],
   "source": [
    "%run -m rpwf.script.nested_resampling $tmp_dir_posix -db db.SQLite -af -c 7 -icv 5 -icr 1 -ocv 5 -ocr 1"
   ]
  }
 ],
 "metadata": {
  "kernelspec": {
   "display_name": "Python 3.9.13 ('py39')",
   "language": "python",
   "name": "python3"
  },
  "language_info": {
   "codemirror_mode": {
    "name": "ipython",
    "version": 3
   },
   "file_extension": ".py",
   "mimetype": "text/x-python",
   "name": "python",
   "nbconvert_exporter": "python",
   "pygments_lexer": "ipython3",
   "version": "3.9.13"
  },
  "orig_nbformat": 4,
  "vscode": {
   "interpreter": {
    "hash": "ecaeaf5a46a4a851f8dba4fb9574e362cc08da10f53588ce74984f0e5edc9105"
   }
  }
 },
 "nbformat": 4,
 "nbformat_minor": 2
}
