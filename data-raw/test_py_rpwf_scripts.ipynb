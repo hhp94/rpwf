{
 "cells": [
  {
   "cell_type": "code",
   "execution_count": 1,
   "metadata": {},
   "outputs": [],
   "source": [
    "import rpwf\n",
    "from rpwf import database, rpwf\n",
    "from pathlib import Path\n",
    "from dataclasses import dataclass\n",
    "import pandas\n",
    "from sklearn.model_selection import (\n",
    "    RepeatedStratifiedKFold,\n",
    "    GridSearchCV,\n",
    "    StratifiedKFold,\n",
    "    cross_val_score\n",
    ")"
   ]
  },
  {
   "cell_type": "code",
   "execution_count": 2,
   "metadata": {},
   "outputs": [
    {
     "name": "stdout",
     "output_type": "stream",
     "text": [
      "/tmp/Rtmpbw9gYv/vignette3b733bb9bbe4\n"
     ]
    }
   ],
   "source": [
    "tmp_dir = Path(\"/tmp/Rtmpbw9gYv/vignette3b733bb9bbe4\")\n",
    "tmp_dir_posix = str(tmp_dir.as_posix())\n",
    "print(tmp_dir_posix)"
   ]
  },
  {
   "cell_type": "code",
   "execution_count": 3,
   "metadata": {},
   "outputs": [],
   "source": [
    "@dataclass\n",
    "class TestArgs:\n",
    "    db_name: str\n",
    "    project_root: str\n",
    "    cores: int\n",
    "    inner_n_cv: int\n",
    "    outer_n_cv: int\n",
    "    outer_n_repeats: int"
   ]
  },
  {
   "cell_type": "code",
   "execution_count": 4,
   "metadata": {},
   "outputs": [],
   "source": [
    "args = TestArgs(\"db.SQLite\", tmp_dir_posix, 1, 1, 1, 1)\n",
    "wflow_id = 1"
   ]
  },
  {
   "cell_type": "code",
   "execution_count": 5,
   "metadata": {},
   "outputs": [
    {
     "name": "stdout",
     "output_type": "stream",
     "text": [
      "db is at /tmp/Rtmpbw9gYv/vignette3b733bb9bbe4/rpwfDb/db.SQLite\n",
      "Connecting to sqlite:////tmp/Rtmpbw9gYv/vignette3b733bb9bbe4/rpwfDb/db.SQLite\n"
     ]
    }
   ],
   "source": [
    "db_obj = database.Base(args.project_root, args.db_name)\n",
    "wflow_df = db_obj.all_wflow()"
   ]
  },
  {
   "cell_type": "code",
   "execution_count": 6,
   "metadata": {},
   "outputs": [
    {
     "name": "stdout",
     "output_type": "stream",
     "text": [
      "Running <class 'xgboost.sklearn.XGBClassifier'>\n"
     ]
    },
    {
     "name": "stderr",
     "output_type": "stream",
     "text": [
      "/home/hhp/miniconda3/envs/py39/lib/python3.9/site-packages/xgboost/compat.py:36: FutureWarning: pandas.Int64Index is deprecated and will be removed from pandas in a future version. Use pandas.Index with the appropriate dtype instead.\n",
      "  from pandas import MultiIndex, Int64Index\n"
     ]
    }
   ],
   "source": [
    "wflow_obj = rpwf.Wflow(db_obj, wflow_id)\n",
    "n_cores = args.cores\n",
    "\n",
    "# Generate the parameters\n",
    "p_grid = rpwf.RGrid(db_obj, wflow_obj).get_grid()\n",
    "\n",
    "df_obj = rpwf.TrainDf(db_obj, wflow_obj)\n",
    "X, y = df_obj.get_df_X(), df_obj.get_df_y()\n",
    "\n",
    "model_type_obj = rpwf.Model(db_obj, wflow_obj)\n",
    "base_learner = rpwf.BaseLearner(wflow_obj, model_type_obj).base_learner\n",
    "score = wflow_obj._get_par(\"costs\")"
   ]
  },
  {
   "cell_type": "code",
   "execution_count": null,
   "metadata": {},
   "outputs": [],
   "source": [
    "from numpy import ravel"
   ]
  },
  {
   "cell_type": "code",
   "execution_count": 11,
   "metadata": {},
   "outputs": [
    {
     "name": "stdout",
     "output_type": "stream",
     "text": [
      "<class 'pandas.core.frame.DataFrame'>\n",
      "UInt64Index: 1000 entries, 1 to 1000\n",
      "Data columns (total 1 columns):\n",
      " #   Column  Non-Null Count  Dtype  \n",
      "---  ------  --------------  -----  \n",
      " 0   class   1000 non-null   float64\n",
      "dtypes: float64(1)\n",
      "memory usage: 15.6 KB\n"
     ]
    }
   ],
   "source": [
    "y.info()"
   ]
  },
  {
   "cell_type": "code",
   "execution_count": null,
   "metadata": {},
   "outputs": [],
   "source": [
    "# Nested resampling\n",
    "inner_cv = StratifiedKFold(\n",
    "    n_splits=args.inner_n_cv, shuffle=True, random_state=wflow_obj.random_state\n",
    ")\n",
    "outer_cv = RepeatedStratifiedKFold(\n",
    "    n_splits=args.outer_n_cv,\n",
    "    n_repeats=args.outer_n_repeats,\n",
    "    random_state=wflow_obj.random_state,\n",
    ")\n",
    "\n",
    "if p_grid is None:\n",
    "    print(\"No tune grid specified, running with default params\")\n",
    "    nested_score = cross_val_score(\n",
    "        base_learner, X=X, y=y, cv=outer_cv, n_jobs=n_cores, scoring=score\n",
    "    )\n",
    "\n",
    "else:\n",
    "    print(\"Performing nested-cv using provided Rgrid\")\n",
    "    param_tuner = GridSearchCV(\n",
    "        estimator=base_learner,\n",
    "        param_grid=p_grid,\n",
    "        cv=inner_cv,\n",
    "        n_jobs=n_cores,\n",
    "        scoring=score,\n",
    "    )\n",
    "    nested_score = cross_val_score(param_tuner, X=X, y=y, cv=outer_cv)\n",
    "\n",
    "# if args.export:\n",
    "    # Export the results\n",
    "exporter = rpwf.Export(db_obj, wflow_obj)\n",
    "nested_score_df = pandas.DataFrame(nested_score, columns=[score])\n",
    "exporter.export_cv(nested_score_df, \"nested_cv\")\n",
    "exporter.export_db()"
   ]
  },
  {
   "cell_type": "code",
   "execution_count": null,
   "metadata": {},
   "outputs": [],
   "source": [
    "%run -m rpwf.script.nested_resampling -h"
   ]
  },
  {
   "cell_type": "code",
   "execution_count": null,
   "metadata": {},
   "outputs": [],
   "source": [
    "%run -m rpwf.script.nested_resampling .. -db base_db.SQLite -w 3"
   ]
  },
  {
   "cell_type": "code",
   "execution_count": null,
   "metadata": {},
   "outputs": [],
   "source": [
    "%run -m rpwf.script.nested_resampling .. -db base_db.SQLite -w 3"
   ]
  },
  {
   "cell_type": "code",
   "execution_count": null,
   "metadata": {},
   "outputs": [],
   "source": [
    "%run -m rpwf.script.cross_validation .. -db base_db.SQLite -w 1 -efj"
   ]
  }
 ],
 "metadata": {
  "kernelspec": {
   "display_name": "Python 3.9.13 ('base')",
   "language": "python",
   "name": "python3"
  },
  "language_info": {
   "codemirror_mode": {
    "name": "ipython",
    "version": 3
   },
   "file_extension": ".py",
   "mimetype": "text/x-python",
   "name": "python",
   "nbconvert_exporter": "python",
   "pygments_lexer": "ipython3",
   "version": "3.9.13"
  },
  "orig_nbformat": 4,
  "vscode": {
   "interpreter": {
    "hash": "f63ac73309c4ae03db5ccea21281553d3cb21b11568d42ccd07be76b29e1d657"
   }
  }
 },
 "nbformat": 4,
 "nbformat_minor": 2
}
